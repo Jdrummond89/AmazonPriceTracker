{
 "cells": [
  {
   "cell_type": "code",
   "execution_count": 49,
   "id": "d44f56c2",
   "metadata": {},
   "outputs": [],
   "source": [
    "# E-commerce Price Tracker\n",
    "\n",
    "from bs4 import BeautifulSoup\n",
    "import pandas as pd\n",
    "import requests\n",
    "import smtplib\n",
    "import time\n",
    "import datetime \n",
    "import csv"
   ]
  },
  {
   "cell_type": "code",
   "execution_count": 50,
   "id": "a1f8faea",
   "metadata": {},
   "outputs": [
    {
     "name": "stdout",
     "output_type": "stream",
     "text": [
      "2022 Newest Acer Aspire 5 Slim Laptop, 15.6\" Full HD IPS, AMD Ryzen 3 3350U Quad-Core Processor, 20 GB DDR4 RAM, 1 TB SSD, Intel WiFi 6, Backlit KB, Fingerprint Reader, Amazon Alexa, Windows 11\n",
      "569\n",
      "                          \n",
      "                           .\n",
      "In Stock.\n",
      "$699.99\n"
     ]
    }
   ],
   "source": [
    "# Connect to e-comm website you want to scrape \n",
    "# Scrape all data you want \n",
    "\n",
    "URL = 'https://www.amazon.com/Acer-Aspire-Quad-Core-Processor-Fingerprint/dp/B099YN7CJP/ref=sr_1_3?crid=3CDU71HF1GGNT&keywords=acer%2Baspire%2B20gb%2Bram%2B1%2Btb%2Bssd&qid=1673168299&sprefix=acer%2Baspire%2B20gb%2Bram%2B1%2Btb%2Bssd%2Caps%2C268&sr=8-3&th=1'\n",
    "\n",
    "headers = {\"User-Agent\": \"Mozilla/5.0 (Windows NT 10.0; Win64; x64) AppleWebKit/537.36 (KHTML, like Gecko) Chrome/108.0.0.0 Safari/537.36\", \"Accept-Encoding\":\"gzip, deflate\", \"Accept\":\"text/html,application/xhtml+xml,application/xml;q=0.9,*/*;q=0.8\", \"DNT\":\"1\",\"Connection\":\"close\", \"Upgrade-Insecure-Requests\":\"1\"}\n",
    "\n",
    "page = requests.get(URL, headers=headers)\n",
    "\n",
    "soup1 = BeautifulSoup(page.content, 'html.parser')\n",
    "\n",
    "soup2 = BeautifulSoup(soup1.prettify(), 'html.parser')\n",
    "\n",
    "title =soup2.find(id='productTitle').text.strip()\n",
    "\n",
    "price = soup2.find('span', {'class':'a-price-whole'}).text.strip() #better formating instead of 'get_text'\n",
    "\n",
    "stock = soup2.find('span', {'class':'a-size-medium a-color-success'}).text.strip()\n",
    "\n",
    "competitor = soup2.find(id='mbc-price-1').text.strip()\n",
    "\n",
    "print(title)\n",
    "print(price)\n",
    "print(stock)\n",
    "print(competitor)\n"
   ]
  },
  {
   "cell_type": "code",
   "execution_count": 51,
   "id": "9d67ef6f",
   "metadata": {},
   "outputs": [
    {
     "name": "stdout",
     "output_type": "stream",
     "text": [
      "2022 Newest Acer Aspire 5 Slim\n",
      "569\n",
      "                          \n",
      "                           .\n",
      "In Stock.\n",
      "699\n"
     ]
    }
   ],
   "source": [
    "# Clean up scraped data for .csv file \n",
    "\n",
    "title = title.strip()[:30]\n",
    "stock = stock.strip()\n",
    "competitor = competitor.strip()[1:4]\n",
    "\n",
    "print(title)\n",
    "print(price)\n",
    "print(stock)\n",
    "print(competitor)"
   ]
  },
  {
   "cell_type": "code",
   "execution_count": 52,
   "id": "6580f1da",
   "metadata": {},
   "outputs": [
    {
     "name": "stdout",
     "output_type": "stream",
     "text": [
      "2023-01-08\n"
     ]
    }
   ],
   "source": [
    "# Track datetime to see price changes over time \n",
    "\n",
    "import datetime\n",
    "\n",
    "date = datetime.date.today()\n",
    "\n",
    "print(date)"
   ]
  },
  {
   "cell_type": "code",
   "execution_count": 53,
   "id": "df08aa27",
   "metadata": {},
   "outputs": [],
   "source": [
    "# Convert all data types to fit into a list\n",
    "# Write to a .csv file with all data you want to track\n",
    "# Be careful to not do this if you don't want to overwrite your data if you lose connection/need to re-run your program\n",
    "\n",
    "import csv\n",
    "\n",
    "header = ['Date', 'Title', 'Price', 'Stock', 'Competitor']\n",
    "data = [date, title, price, stock, competitor]\n",
    "\n",
    "with open('AmazonWebScrapingDataset.csv', 'w', newline='', encoding = 'UTF8') as file:\n",
    "    writer = csv.writer(file)\n",
    "    writer.writerow(header)\n",
    "    writer.writerow(data)"
   ]
  },
  {
   "cell_type": "code",
   "execution_count": 54,
   "id": "d6cde9a2",
   "metadata": {},
   "outputs": [
    {
     "name": "stdout",
     "output_type": "stream",
     "text": [
      "         Date                           Title  \\\n",
      "0  2023-01-08  2022 Newest Acer Aspire 5 Slim   \n",
      "\n",
      "                                               Price      Stock  Competitor  \n",
      "0  569\\n                          \\n             ...  In Stock.         699  \n"
     ]
    }
   ],
   "source": [
    "# Use pandas to view data without needing to open a .csv \n",
    "# Formatting is strange here, but it is appending correctly in Excel \n",
    "\n",
    "import pandas as pd\n",
    "\n",
    "df = pd.read_csv(r'C:\\Users\\pc-47\\AmazonWebScrapingDataset.csv')\n",
    "\n",
    "print(df)"
   ]
  },
  {
   "cell_type": "code",
   "execution_count": 55,
   "id": "460e602b",
   "metadata": {},
   "outputs": [],
   "source": [
    "# Write an append function to the .csv file \n",
    "\n",
    "with open('AmazonWebScrapingDataset.csv', 'a+', newline='', encoding = 'UTF8') as file:\n",
    "    writer = csv.writer(file)\n",
    "    writer.writerow(data)"
   ]
  },
  {
   "cell_type": "code",
   "execution_count": 56,
   "id": "11665d9c",
   "metadata": {},
   "outputs": [],
   "source": [
    "# Define a function to automate this price checker daily \n",
    "\n",
    "def check_price():\n",
    "    URL = 'https://www.amazon.com/Acer-Aspire-Quad-Core-Processor-Fingerprint/dp/B099YN7CJP/ref=sr_1_3?crid=3CDU71HF1GGNT&keywords=acer%2Baspire%2B20gb%2Bram%2B1%2Btb%2Bssd&qid=1673168299&sprefix=acer%2Baspire%2B20gb%2Bram%2B1%2Btb%2Bssd%2Caps%2C268&sr=8-3&th=1'\n",
    "\n",
    "    headers = {\"User-Agent\": \"Mozilla/5.0 (Windows NT 10.0; Win64; x64) AppleWebKit/537.36 (KHTML, like Gecko) Chrome/108.0.0.0 Safari/537.36\", \"Accept-Encoding\":\"gzip, deflate\", \"Accept\":\"text/html,application/xhtml+xml,application/xml;q=0.9,*/*;q=0.8\", \"DNT\":\"1\",\"Connection\":\"close\", \"Upgrade-Insecure-Requests\":\"1\"}\n",
    "\n",
    "    page = requests.get(URL, headers=headers)\n",
    "\n",
    "    soup1 = BeautifulSoup(page.content, 'html.parser')\n",
    "\n",
    "    soup2 = BeautifulSoup(soup1.prettify(), 'html.parser')\n",
    "\n",
    "    title =soup2.find(id='productTitle').text.strip()\n",
    "\n",
    "    price = soup2.find('span', {'class':'a-price-whole'}).text.strip() #better formating instead of 'get_text'\n",
    "\n",
    "    stock = soup2.find('span', {'class':'a-size-medium a-color-success'}).text.strip()\n",
    "\n",
    "    competitor = soup2.find(id='mbc-price-1').text.strip()\n",
    "    \n",
    "    title = title.strip()[:30]\n",
    "    stock = stock.strip()\n",
    "    competitor = competitor.strip()[1:4]\n",
    "    \n",
    "    import datetime\n",
    "    date = datetime.date.today()\n",
    "    \n",
    "    import csv\n",
    "    header = ['Date', 'Title', 'Price', 'Stock', 'Competitor']\n",
    "    data = [date, title, price, stock, competitor]\n",
    "    \n",
    "    with open('AmazonWebScrapingDataset.csv', 'a+', newline='', encoding = 'UTF8') as file:\n",
    "        writer = csv.writer(file)\n",
    "        writer.writerow(data)\n"
   ]
  },
  {
   "cell_type": "code",
   "execution_count": null,
   "id": "1a959d98",
   "metadata": {},
   "outputs": [],
   "source": [
    "# Set a time frequency (in seconds) you want to call the function \n",
    "# 60 sec x 60 mins x 24 hours = 86400 seconds\n",
    "\n",
    "while(True):\n",
    "    check_price()\n",
    "    time.sleep(86400)"
   ]
  },
  {
   "cell_type": "code",
   "execution_count": null,
   "id": "642db535",
   "metadata": {},
   "outputs": [],
   "source": [
    "# Price Tracker will update daily "
   ]
  }
 ],
 "metadata": {
  "kernelspec": {
   "display_name": "Python 3 (ipykernel)",
   "language": "python",
   "name": "python3"
  },
  "language_info": {
   "codemirror_mode": {
    "name": "ipython",
    "version": 3
   },
   "file_extension": ".py",
   "mimetype": "text/x-python",
   "name": "python",
   "nbconvert_exporter": "python",
   "pygments_lexer": "ipython3",
   "version": "3.9.13"
  }
 },
 "nbformat": 4,
 "nbformat_minor": 5
}
